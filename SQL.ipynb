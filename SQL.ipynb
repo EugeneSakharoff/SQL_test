{
 "cells": [
  {
   "cell_type": "markdown",
   "metadata": {},
   "source": [
    "<h1>Тестовое задание по SQL</h1>"
   ]
  },
  {
   "cell_type": "code",
   "execution_count": 1,
   "metadata": {},
   "outputs": [],
   "source": [
    "import sqlite3\n",
    "import random\n",
    "import datetime"
   ]
  },
  {
   "cell_type": "code",
   "execution_count": 3,
   "metadata": {},
   "outputs": [],
   "source": [
    "connection = sqlite3.connect(\"test.sqlite\")"
   ]
  },
  {
   "cell_type": "code",
   "execution_count": 4,
   "metadata": {},
   "outputs": [],
   "source": [
    "cursor = connection.cursor()"
   ]
  },
  {
   "cell_type": "markdown",
   "metadata": {},
   "source": [
    "<h3> Часть 1. Создадим необходимые таблицы </h3>"
   ]
  },
  {
   "cell_type": "code",
   "execution_count": 46,
   "metadata": {},
   "outputs": [],
   "source": [
    "\n",
    "#Таблица пилотов\n",
    "create_pilots_query = \"\"\"\n",
    "CREATE TABLE pilots (\n",
    "  pilot_id INTEGER PRIMARY KEY AUTOINCREMENT,\n",
    "  name varchar(50),\n",
    "  age INTEGER,\n",
    "  rank INTEGER,\n",
    "  education_level varchar(50)\n",
    ");\n",
    "\"\"\"\n",
    "\n",
    "cursor.execute(create_pilots_query)\n",
    "connection.commit()"
   ]
  },
  {
   "cell_type": "code",
   "execution_count": 47,
   "metadata": {},
   "outputs": [],
   "source": [
    "#Заполним случайными данными\n",
    "PILOTS_NUM = 10\n",
    "for i in range(PILOTS_NUM):\n",
    "    name = (''.join([chr(random.randint(97,122))for c in range(random.randint(3,7))])).capitalize()\n",
    "    age = random.randint(18,80)\n",
    "    rank = random.randint(1,6)\n",
    "    education_level = random.sample(['poor','fancy'],1)[0]\n",
    "    add_pilot_query = 'INSERT INTO pilots VALUES (?, ?, ?, ?, ?)'\n",
    "    cursor.execute(add_pilot_query,(i+1,name,age,rank,education_level))\n",
    "    connection.commit()"
   ]
  },
  {
   "cell_type": "code",
   "execution_count": 48,
   "metadata": {},
   "outputs": [
    {
     "data": {
      "text/plain": [
       "[(1, 'Dvwbeta', 68, 6, 'poor'),\n",
       " (2, 'Flu', 32, 4, 'poor'),\n",
       " (3, 'Bygalaa', 47, 6, 'fancy'),\n",
       " (4, 'Jou', 71, 4, 'fancy'),\n",
       " (5, 'Dqqjla', 80, 3, 'poor'),\n",
       " (6, 'Xuuv', 66, 4, 'fancy'),\n",
       " (7, 'Dtvu', 70, 2, 'poor'),\n",
       " (8, 'Qeor', 73, 2, 'fancy'),\n",
       " (9, 'Vam', 73, 5, 'fancy'),\n",
       " (10, 'Mpjoo', 49, 2, 'fancy')]"
      ]
     },
     "execution_count": 48,
     "metadata": {},
     "output_type": "execute_result"
    }
   ],
   "source": [
    "#Посмотрим, что получилось\n",
    "select_query = 'SELECT * FROM pilots'\n",
    "cursor.execute(select_query)\n",
    "results = cursor.fetchall()\n",
    "results"
   ]
  },
  {
   "cell_type": "code",
   "execution_count": 49,
   "metadata": {},
   "outputs": [],
   "source": [
    "# Таблица самолетов\n",
    "create_crafts_query = \"\"\"\n",
    "CREATE TABLE crafts (\n",
    "  plane_id INTEGER PRIMARY KEY AUTOINCREMENT,\n",
    "  capacity INTEGER,\n",
    "  cargo_flg BOOL\n",
    ");\n",
    "\"\"\"\n",
    "\n",
    "cursor.execute(create_crafts_query)\n",
    "connection.commit()"
   ]
  },
  {
   "cell_type": "code",
   "execution_count": 50,
   "metadata": {},
   "outputs": [],
   "source": [
    "#Заполним случайными данными\n",
    "CRAFTS_NUM = 10\n",
    "for i in range(CRAFTS_NUM):\n",
    "    cap = random.randint(10,100)\n",
    "    cflg = random.randint(0,1)\n",
    "    add_craft_query = 'INSERT INTO crafts VALUES (?, ?, ?)'\n",
    "    cursor.execute(add_craft_query,(i+1,cap,cflg))\n",
    "    connection.commit()"
   ]
  },
  {
   "cell_type": "code",
   "execution_count": 51,
   "metadata": {},
   "outputs": [
    {
     "data": {
      "text/plain": [
       "[(1, 78, 0),\n",
       " (2, 43, 0),\n",
       " (3, 84, 0),\n",
       " (4, 34, 1),\n",
       " (5, 54, 0),\n",
       " (6, 74, 0),\n",
       " (7, 95, 0),\n",
       " (8, 23, 1),\n",
       " (9, 52, 0),\n",
       " (10, 56, 0)]"
      ]
     },
     "execution_count": 51,
     "metadata": {},
     "output_type": "execute_result"
    }
   ],
   "source": [
    "#Посмотрим, что получилось\n",
    "select_query = 'SELECT * FROM crafts'\n",
    "cursor.execute(select_query)\n",
    "results = cursor.fetchall()\n",
    "results"
   ]
  },
  {
   "cell_type": "code",
   "execution_count": 54,
   "metadata": {},
   "outputs": [],
   "source": [
    "#Таблица рейсов\n",
    "drop_flights_query = 'DROP TABLE flights'\n",
    "cursor.execute(drop_flights_query)\n",
    "connection.commit()\n",
    "create_flights_query = \"\"\"\n",
    "CREATE TABLE flights (\n",
    "flight_id INTEGER,\n",
    "flight_dt DATE,\n",
    "plane_id INTEGER,\n",
    "first_pilot_id INTEGER,\n",
    "second_pilot_id INTEGER,\n",
    "destination varchar(10),\n",
    "quantity INTEGER,\n",
    "FOREIGN KEY (first_pilot_id) REFERENCES pilots(pilot_id),\n",
    "FOREIGN KEY (second_pilot_id) REFERENCES pilots(pilot_id),\n",
    "CONSTRAINT flight_id_dt PRIMARY KEY (flight_id, flight_dt)\n",
    ");\n",
    "\"\"\"\n",
    "\n",
    "cursor.execute(create_flights_query)\n",
    "connection.commit()"
   ]
  },
  {
   "cell_type": "code",
   "execution_count": 55,
   "metadata": {},
   "outputs": [],
   "source": [
    "#Заполним случайными данными (первый и второй пилоты не должны совпадать)\n",
    "import datetime\n",
    "FLIGHTS_NUM = 10\n",
    "for i in range(FLIGHTS_NUM):\n",
    "    fid = random.randint(1,1000)\n",
    "    fdt = datetime.date(2021, random.randint(1,12), random.randint(1,28))\n",
    "    pid = random.randint(1,CRAFTS_NUM+1)\n",
    "    fpid = random.randint(1,PILOTS_NUM+1)\n",
    "    spid = fpid\n",
    "    while spid == fpid: spid = random.randint(1,PILOTS_NUM+1)\n",
    "    dest = random.sample(['SVO','VKO','DME','LED'],1)[0]\n",
    "    quan = random.randint(1,100)\n",
    "    add_fight_query = 'INSERT INTO flights VALUES (?, ?, ?, ?, ?, ?, ?)'\n",
    "    cursor.execute(add_fight_query,(fid,fdt,pid,fpid,spid,dest,quan))\n",
    "    connection.commit()"
   ]
  },
  {
   "cell_type": "code",
   "execution_count": 56,
   "metadata": {},
   "outputs": [
    {
     "data": {
      "text/plain": [
       "[(75, '2021-02-26', 1, 1, 5, 'VKO', 33),\n",
       " (911, '2021-03-12', 10, 3, 10, 'VKO', 17),\n",
       " (854, '2021-06-18', 5, 10, 6, 'VKO', 2),\n",
       " (373, '2021-12-05', 9, 3, 8, 'SVO', 29),\n",
       " (329, '2021-12-18', 9, 4, 8, 'LED', 5),\n",
       " (536, '2021-06-17', 6, 10, 2, 'VKO', 80),\n",
       " (941, '2021-05-17', 6, 11, 5, 'VKO', 24),\n",
       " (373, '2021-08-28', 7, 6, 8, 'LED', 1),\n",
       " (545, '2021-03-01', 1, 6, 9, 'LED', 15),\n",
       " (831, '2021-04-24', 5, 10, 7, 'LED', 78)]"
      ]
     },
     "execution_count": 56,
     "metadata": {},
     "output_type": "execute_result"
    }
   ],
   "source": [
    "#Посмотрим, что получилось\n",
    "select_query = 'SELECT * FROM flights'\n",
    "cursor.execute(select_query)\n",
    "results = cursor.fetchall()\n",
    "results"
   ]
  },
  {
   "cell_type": "markdown",
   "metadata": {},
   "source": [
    "<h3>Задание 1.  Напишите запрос, который выведет пилотов, которые в качестве второго пилота в \n",
    "августе этого года ездили в аэропорт Шереметьево. </h3>"
   ]
  },
  {
   "cell_type": "code",
   "execution_count": 59,
   "metadata": {},
   "outputs": [],
   "source": [
    "# В случайно сгенерированных данных такого пилота не оказалось, поэтому\n",
    "# добавим нужный рейс. Второй пилот будет с id=1 и именем \"Dvwbeta\"\n",
    "fid = random.randint(1,1000)\n",
    "fdt = datetime.date(2021, 8, random.randint(1,28))\n",
    "pid = random.randint(1,CRAFTS_NUM+1)\n",
    "fpid = random.randint(1,PILOTS_NUM+1)\n",
    "spid = 1\n",
    "dest = 'SVO'\n",
    "quan = random.randint(1,100)\n",
    "add_fight_query = 'INSERT INTO flights VALUES (?, ?, ?, ?, ?, ?, ?)'\n",
    "cursor.execute(add_fight_query,(fid,fdt,pid,fpid,spid,dest,quan))\n",
    "connection.commit()"
   ]
  },
  {
   "cell_type": "markdown",
   "metadata": {},
   "source": [
    "Собственно, запрос. Необходимо, чтобы вополнилось 2 условия: destination=SVO AND flight_dt LIKE '2021-08-_(полет в августе 2021). \n",
    "Выбираем всех вторых пилотов с этих рейсов и выводим их имена."
   ]
  },
  {
   "cell_type": "code",
   "execution_count": 60,
   "metadata": {},
   "outputs": [
    {
     "data": {
      "text/plain": [
       "[('Dvwbeta',)]"
      ]
     },
     "execution_count": 60,
     "metadata": {},
     "output_type": "execute_result"
    }
   ],
   "source": [
    "select_query = \"\"\"SELECT name FROM pilots WHERE\n",
    "pilot_id = (SELECT second_pilot_id FROM flights WHERE\n",
    "destination = 'SVO' AND flight_dt LIKE '2021-08-__');\"\"\"\n",
    "cursor.execute(select_query)\n",
    "results = cursor.fetchall()\n",
    "results"
   ]
  },
  {
   "cell_type": "markdown",
   "metadata": {},
   "source": [
    "<h3>Задание 2. Выведите пилотов старше 45 лет, которые совершили больше 30 полетов на грузовых \n",
    "самолетах. </h3>"
   ]
  },
  {
   "cell_type": "markdown",
   "metadata": {},
   "source": [
    "Для начала добавим эти полеты в данные. Пусть это будет пилот с id=2 и именем Flu. Он может быть как первым, так и вторым пилотом, и самолет должен быть грузовым, т.е. plane id = 4 или 8"
   ]
  },
  {
   "cell_type": "code",
   "execution_count": 61,
   "metadata": {},
   "outputs": [],
   "source": [
    "FLIGHTS_NUM = 31\n",
    "for i in range(FLIGHTS_NUM):\n",
    "    fid = random.randint(1,1000)\n",
    "    fdt = datetime.date(2021, random.randint(1,12), random.randint(1,28))\n",
    "    pid = random.sample([4,8],1)[0]\n",
    "    if bool(random.getrandbits(1)):\n",
    "        fpid = 2\n",
    "        spid = fpid\n",
    "        while spid == fpid: spid = random.randint(1,PILOTS_NUM+1)\n",
    "    else:\n",
    "        spid = 2\n",
    "        fpid = spid\n",
    "        while fpid == spid: fpid = random.randint(1,PILOTS_NUM+1) \n",
    "    dest = random.sample(['SVO','VKO','DME','LED'],1)[0]\n",
    "    quan = random.randint(1,100)\n",
    "    add_fight_query = 'INSERT INTO flights VALUES (?, ?, ?, ?, ?, ?, ?)'\n",
    "    cursor.execute(add_fight_query,(fid,fdt,pid,fpid,spid,dest,quan))\n",
    "    connection.commit()"
   ]
  },
  {
   "cell_type": "markdown",
   "metadata": {},
   "source": [
    "Изменим его возраст на 46"
   ]
  },
  {
   "cell_type": "code",
   "execution_count": 62,
   "metadata": {},
   "outputs": [
    {
     "data": {
      "text/plain": [
       "[(1, 'Dvwbeta', 68, 6, 'poor'),\n",
       " (2, 'Flu', 46, 4, 'poor'),\n",
       " (3, 'Bygalaa', 47, 6, 'fancy'),\n",
       " (4, 'Jou', 71, 4, 'fancy'),\n",
       " (5, 'Dqqjla', 80, 3, 'poor'),\n",
       " (6, 'Xuuv', 66, 4, 'fancy'),\n",
       " (7, 'Dtvu', 70, 2, 'poor'),\n",
       " (8, 'Qeor', 73, 2, 'fancy'),\n",
       " (9, 'Vam', 73, 5, 'fancy'),\n",
       " (10, 'Mpjoo', 49, 2, 'fancy')]"
      ]
     },
     "execution_count": 62,
     "metadata": {},
     "output_type": "execute_result"
    }
   ],
   "source": [
    "make_him_46 = \"\"\"UPDATE pilots\n",
    "SET age =46\n",
    "WHERE pilot_id = 2; \"\"\"\n",
    "cursor.execute(make_him_46)\n",
    "connection.commit()\n",
    "select_query = 'SELECT * FROM pilots'\n",
    "cursor.execute(select_query)\n",
    "results = cursor.fetchall()\n",
    "results"
   ]
  },
  {
   "cell_type": "markdown",
   "metadata": {},
   "source": [
    "Чтобы сформулировать запрос, будем думать с конца. Для начала, получим все рейсы на грузовых самолетах запросом \n",
    "SELECT *\n",
    "FROM flights WHERE\n",
    "plane_id IN(SELECT plane_id FROM CRAFTS WHERE cargo_flg = 1)\n",
    "Нам нужны и первые и вторые пилоты, поэтому делаем 2 выборки и объединяем их командой UNION ALL во временную таблицу TMP, дальше используем GROUP BY по получившемуся столбцу и COUNT()>30, чтобы получить тех, кто совершил более 30 полетов.\n",
    "Остается только совместить это условие с age>45 и вывести имена."
   ]
  },
  {
   "cell_type": "code",
   "execution_count": 87,
   "metadata": {},
   "outputs": [
    {
     "data": {
      "text/plain": [
       "[('Flu',)]"
      ]
     },
     "execution_count": 87,
     "metadata": {},
     "output_type": "execute_result"
    }
   ],
   "source": [
    "select_query =\"\"\"SELECT name FROM pilots WHERE\n",
    "age>45 AND pilot_id IN \n",
    "(SELECT * FROM \n",
    "(SELECT  first_pilot_id\n",
    "FROM flights WHERE\n",
    "plane_id IN(SELECT plane_id FROM CRAFTS WHERE cargo_flg = 1)\n",
    "UNION ALL\n",
    "SELECT second_pilot_id\n",
    "FROM flights WHERE\n",
    "plane_id IN(SELECT plane_id FROM CRAFTS WHERE cargo_flg = 1)\n",
    ") as TMP\n",
    "GROUP BY TMP.first_pilot_id \n",
    "HAVING Count(first_pilot_id) > 30)\"\"\"\n",
    "cursor.execute(select_query)\n",
    "results = cursor.fetchall()\n",
    "results"
   ]
  },
  {
   "cell_type": "markdown",
   "metadata": {},
   "source": [
    "<h3>Задание 3.  Выведите ТОП 10 пилотов-капитанов (first_pilot_id), которые перевезли наибольшее \n",
    "число пассажиров в этом году.  </h3>"
   ]
  },
  {
   "cell_type": "markdown",
   "metadata": {},
   "source": [
    "Выберем полеты на пассажирских самолетах (plane_id IN(SELECT plane_id FROM CRAFTS WHERE cargo_flg = 0)) и полеты 2021 года (flight_dt LIKE '2021%'). \n",
    "Используем ORDER BY SUM(quantity) DESC, чтобы отсортировать по убыванию по общему кол-ву пассажиров.\n",
    "Выведем имена 10ти пилотов с LIMIT 10"
   ]
  },
  {
   "cell_type": "code",
   "execution_count": 104,
   "metadata": {},
   "outputs": [
    {
     "data": {
      "text/plain": [
       "[('Dvwbeta',), ('Flu',), ('Bygalaa',), ('Jou',), ('Xuuv',), ('Mpjoo',)]"
      ]
     },
     "execution_count": 104,
     "metadata": {},
     "output_type": "execute_result"
    }
   ],
   "source": [
    "select_query = \"\"\"SELECT name FROM pilots WHERE pilot_id IN \n",
    "(SELECT first_pilot_id\n",
    "FROM flights WHERE\n",
    "(plane_id IN(SELECT plane_id FROM CRAFTS WHERE cargo_flg = 0)) AND\n",
    "(flight_dt LIKE '2021%')\n",
    "GROUP BY first_pilot_id \n",
    "ORDER BY SUM(quantity)  DESC) LIMIT 10\"\"\"\n",
    "cursor.execute(select_query)\n",
    "results = cursor.fetchall()\n",
    "results"
   ]
  },
  {
   "cell_type": "markdown",
   "metadata": {},
   "source": [
    "В ответе всего 7 пилотов, т.к. их всего 10 в таблице и только 7 летали в качестве первого пилота пассажирского рейса"
   ]
  },
  {
   "cell_type": "code",
   "execution_count": null,
   "metadata": {},
   "outputs": [],
   "source": []
  }
 ],
 "metadata": {
  "kernelspec": {
   "display_name": "Python 3",
   "language": "python",
   "name": "python3"
  },
  "language_info": {
   "codemirror_mode": {
    "name": "ipython",
    "version": 3
   },
   "file_extension": ".py",
   "mimetype": "text/x-python",
   "name": "python",
   "nbconvert_exporter": "python",
   "pygments_lexer": "ipython3",
   "version": "3.7.4"
  }
 },
 "nbformat": 4,
 "nbformat_minor": 2
}
